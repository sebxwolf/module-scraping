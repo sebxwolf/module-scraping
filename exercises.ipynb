{
 "cells": [
  {
   "cell_type": "code",
   "execution_count": 23,
   "metadata": {
    "autoscroll": false,
    "ein.hycell": false,
    "ein.tags": "worksheet-0",
    "slideshow": {
     "slide_type": "-"
    }
   },
   "outputs": [],
   "source": [
    "# Our jupyter/datascience-notebook Docker container comes with \n",
    "# BeautifulSoup4 and requests, both popular libraries!\n",
    "\n",
    "from bs4 import BeautifulSoup\n",
    "import requests"
   ]
  },
  {
   "cell_type": "code",
   "execution_count": 24,
   "metadata": {
    "autoscroll": false,
    "ein.hycell": false,
    "ein.tags": "worksheet-0",
    "slideshow": {
     "slide_type": "-"
    }
   },
   "outputs": [],
   "source": [
    "START_URL = 'https://brickset.com/sets/year-2016'"
   ]
  },
  {
   "cell_type": "code",
   "execution_count": 117,
   "metadata": {
    "autoscroll": false,
    "ein.hycell": false,
    "ein.tags": "worksheet-0",
    "slideshow": {
     "slide_type": "-"
    }
   },
   "outputs": [],
   "source": [
    "def get_titles(soup):    \n",
    "    \"\"\" Returns a list of titles on the page \"\"\"\n",
    "    input_list = soup.select(\".meta h1 a\")\n",
    "    output = list()\n",
    "    for i in input_list:\n",
    "        output.append(i.get_text())\n",
    "    return output\n",
    "                      \n",
    "def parse_bricks(url):\n",
    "    \"\"\" Fetches Lego Bricks page and extracts titles \"\"\"\n",
    "    response = requests.get(url)\n",
    "    raw = response.text\n",
    "    soup = BeautifulSoup(raw, 'html.parser')\n",
    "    return(get_titles(soup))    "
   ]
  },
  {
   "cell_type": "code",
   "execution_count": 118,
   "metadata": {
    "autoscroll": false,
    "ein.hycell": false,
    "ein.tags": "worksheet-0",
    "slideshow": {
     "slide_type": "-"
    }
   },
   "outputs": [],
   "source": [
    "bricks = parse_bricks(START_URL)"
   ]
  },
  {
   "cell_type": "code",
   "execution_count": 119,
   "metadata": {
    "autoscroll": false,
    "ein.hycell": false,
    "ein.tags": "worksheet-0",
    "slideshow": {
     "slide_type": "-"
    }
   },
   "outputs": [],
   "source": [
    "assert(bricks[0] == '10251:  Brick Bank')\n",
    "assert(bricks[9] == '10722:  Snake Showdown')"
   ]
  }
 ],
 "metadata": {
  "kernelspec": {
   "display_name": "Python 3",
   "language": "python",
   "name": "python3"
  },
  "language_info": {
   "codemirror_mode": {
    "name": "ipython",
    "version": 3
   },
   "file_extension": ".py",
   "mimetype": "text/x-python",
   "name": "python",
   "nbconvert_exporter": "python",
   "pygments_lexer": "ipython3",
   "version": "3.6.3"
  },
  "name": "exercises.ipynb"
 },
 "nbformat": 4,
 "nbformat_minor": 2
}
